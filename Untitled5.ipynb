{
  "cells": [
    {
      "cell_type": "markdown",
      "metadata": {
        "id": "view-in-github",
        "colab_type": "text"
      },
      "source": [
        "<a href=\"https://colab.research.google.com/github/Phearakbothbunna/YoutubeAnalyzer/blob/Nico_data_prep/Untitled5.ipynb\" target=\"_parent\"><img src=\"https://colab.research.google.com/assets/colab-badge.svg\" alt=\"Open In Colab\"/></a>"
      ]
    },
    {
      "cell_type": "code",
      "execution_count": 1,
      "metadata": {
        "colab": {
          "base_uri": "https://localhost:8080/",
          "height": 559
        },
        "id": "_siElFdZrWrG",
        "outputId": "afe8e03d-6502-484d-9ff0-07950b99b4a5"
      },
      "outputs": [
        {
          "output_type": "display_data",
          "data": {
            "text/plain": [
              "<IPython.core.display.HTML object>"
            ],
            "text/html": [
              "\n",
              "     <input type=\"file\" id=\"files-b07f31e9-8735-4b1f-9684-00ee236bfcdc\" name=\"files[]\" multiple disabled\n",
              "        style=\"border:none\" />\n",
              "     <output id=\"result-b07f31e9-8735-4b1f-9684-00ee236bfcdc\">\n",
              "      Upload widget is only available when the cell has been executed in the\n",
              "      current browser session. Please rerun this cell to enable.\n",
              "      </output>\n",
              "      <script>// Copyright 2017 Google LLC\n",
              "//\n",
              "// Licensed under the Apache License, Version 2.0 (the \"License\");\n",
              "// you may not use this file except in compliance with the License.\n",
              "// You may obtain a copy of the License at\n",
              "//\n",
              "//      http://www.apache.org/licenses/LICENSE-2.0\n",
              "//\n",
              "// Unless required by applicable law or agreed to in writing, software\n",
              "// distributed under the License is distributed on an \"AS IS\" BASIS,\n",
              "// WITHOUT WARRANTIES OR CONDITIONS OF ANY KIND, either express or implied.\n",
              "// See the License for the specific language governing permissions and\n",
              "// limitations under the License.\n",
              "\n",
              "/**\n",
              " * @fileoverview Helpers for google.colab Python module.\n",
              " */\n",
              "(function(scope) {\n",
              "function span(text, styleAttributes = {}) {\n",
              "  const element = document.createElement('span');\n",
              "  element.textContent = text;\n",
              "  for (const key of Object.keys(styleAttributes)) {\n",
              "    element.style[key] = styleAttributes[key];\n",
              "  }\n",
              "  return element;\n",
              "}\n",
              "\n",
              "// Max number of bytes which will be uploaded at a time.\n",
              "const MAX_PAYLOAD_SIZE = 100 * 1024;\n",
              "\n",
              "function _uploadFiles(inputId, outputId) {\n",
              "  const steps = uploadFilesStep(inputId, outputId);\n",
              "  const outputElement = document.getElementById(outputId);\n",
              "  // Cache steps on the outputElement to make it available for the next call\n",
              "  // to uploadFilesContinue from Python.\n",
              "  outputElement.steps = steps;\n",
              "\n",
              "  return _uploadFilesContinue(outputId);\n",
              "}\n",
              "\n",
              "// This is roughly an async generator (not supported in the browser yet),\n",
              "// where there are multiple asynchronous steps and the Python side is going\n",
              "// to poll for completion of each step.\n",
              "// This uses a Promise to block the python side on completion of each step,\n",
              "// then passes the result of the previous step as the input to the next step.\n",
              "function _uploadFilesContinue(outputId) {\n",
              "  const outputElement = document.getElementById(outputId);\n",
              "  const steps = outputElement.steps;\n",
              "\n",
              "  const next = steps.next(outputElement.lastPromiseValue);\n",
              "  return Promise.resolve(next.value.promise).then((value) => {\n",
              "    // Cache the last promise value to make it available to the next\n",
              "    // step of the generator.\n",
              "    outputElement.lastPromiseValue = value;\n",
              "    return next.value.response;\n",
              "  });\n",
              "}\n",
              "\n",
              "/**\n",
              " * Generator function which is called between each async step of the upload\n",
              " * process.\n",
              " * @param {string} inputId Element ID of the input file picker element.\n",
              " * @param {string} outputId Element ID of the output display.\n",
              " * @return {!Iterable<!Object>} Iterable of next steps.\n",
              " */\n",
              "function* uploadFilesStep(inputId, outputId) {\n",
              "  const inputElement = document.getElementById(inputId);\n",
              "  inputElement.disabled = false;\n",
              "\n",
              "  const outputElement = document.getElementById(outputId);\n",
              "  outputElement.innerHTML = '';\n",
              "\n",
              "  const pickedPromise = new Promise((resolve) => {\n",
              "    inputElement.addEventListener('change', (e) => {\n",
              "      resolve(e.target.files);\n",
              "    });\n",
              "  });\n",
              "\n",
              "  const cancel = document.createElement('button');\n",
              "  inputElement.parentElement.appendChild(cancel);\n",
              "  cancel.textContent = 'Cancel upload';\n",
              "  const cancelPromise = new Promise((resolve) => {\n",
              "    cancel.onclick = () => {\n",
              "      resolve(null);\n",
              "    };\n",
              "  });\n",
              "\n",
              "  // Wait for the user to pick the files.\n",
              "  const files = yield {\n",
              "    promise: Promise.race([pickedPromise, cancelPromise]),\n",
              "    response: {\n",
              "      action: 'starting',\n",
              "    }\n",
              "  };\n",
              "\n",
              "  cancel.remove();\n",
              "\n",
              "  // Disable the input element since further picks are not allowed.\n",
              "  inputElement.disabled = true;\n",
              "\n",
              "  if (!files) {\n",
              "    return {\n",
              "      response: {\n",
              "        action: 'complete',\n",
              "      }\n",
              "    };\n",
              "  }\n",
              "\n",
              "  for (const file of files) {\n",
              "    const li = document.createElement('li');\n",
              "    li.append(span(file.name, {fontWeight: 'bold'}));\n",
              "    li.append(span(\n",
              "        `(${file.type || 'n/a'}) - ${file.size} bytes, ` +\n",
              "        `last modified: ${\n",
              "            file.lastModifiedDate ? file.lastModifiedDate.toLocaleDateString() :\n",
              "                                    'n/a'} - `));\n",
              "    const percent = span('0% done');\n",
              "    li.appendChild(percent);\n",
              "\n",
              "    outputElement.appendChild(li);\n",
              "\n",
              "    const fileDataPromise = new Promise((resolve) => {\n",
              "      const reader = new FileReader();\n",
              "      reader.onload = (e) => {\n",
              "        resolve(e.target.result);\n",
              "      };\n",
              "      reader.readAsArrayBuffer(file);\n",
              "    });\n",
              "    // Wait for the data to be ready.\n",
              "    let fileData = yield {\n",
              "      promise: fileDataPromise,\n",
              "      response: {\n",
              "        action: 'continue',\n",
              "      }\n",
              "    };\n",
              "\n",
              "    // Use a chunked sending to avoid message size limits. See b/62115660.\n",
              "    let position = 0;\n",
              "    do {\n",
              "      const length = Math.min(fileData.byteLength - position, MAX_PAYLOAD_SIZE);\n",
              "      const chunk = new Uint8Array(fileData, position, length);\n",
              "      position += length;\n",
              "\n",
              "      const base64 = btoa(String.fromCharCode.apply(null, chunk));\n",
              "      yield {\n",
              "        response: {\n",
              "          action: 'append',\n",
              "          file: file.name,\n",
              "          data: base64,\n",
              "        },\n",
              "      };\n",
              "\n",
              "      let percentDone = fileData.byteLength === 0 ?\n",
              "          100 :\n",
              "          Math.round((position / fileData.byteLength) * 100);\n",
              "      percent.textContent = `${percentDone}% done`;\n",
              "\n",
              "    } while (position < fileData.byteLength);\n",
              "  }\n",
              "\n",
              "  // All done.\n",
              "  yield {\n",
              "    response: {\n",
              "      action: 'complete',\n",
              "    }\n",
              "  };\n",
              "}\n",
              "\n",
              "scope.google = scope.google || {};\n",
              "scope.google.colab = scope.google.colab || {};\n",
              "scope.google.colab._files = {\n",
              "  _uploadFiles,\n",
              "  _uploadFilesContinue,\n",
              "};\n",
              "})(self);\n",
              "</script> "
            ]
          },
          "metadata": {}
        },
        {
          "output_type": "stream",
          "name": "stdout",
          "text": [
            "Saving 2(2).txt to 2(2).txt\n",
            "Saving 2.txt to 2.txt\n",
            "Saving 3.txt to 3.txt\n",
            "Saving 0 (1).txt to 0 (1).txt\n",
            "Saving 0.txt to 0.txt\n",
            "Saving 1 (1).txt to 1 (1).txt\n",
            "Saving log (1).txt to log (1).txt\n",
            "Saving 0 (2).txt to 0 (2).txt\n",
            "Saving 1 (2).txt to 1 (2).txt\n",
            "Saving 1.txt to 1.txt\n",
            "Saving 3(1).txt to 3(1).txt\n",
            "Saving log (2).txt to log (2).txt\n",
            "Saving 2(1).txt to 2(1).txt\n",
            "Saving 3(2).txt to 3(2).txt\n",
            "Saving log.txt to log.txt\n"
          ]
        }
      ],
      "source": [
        "from google.colab import files\n",
        "import pandas as pd\n",
        "import re\n",
        "from io import StringIO\n",
        "\n",
        "# Step 1: Upload multiple .txt files\n",
        "uploaded = files.upload()\n"
      ]
    },
    {
      "cell_type": "code",
      "source": [
        "# Step 2: Initialize an empty DataFrame to store combined data\n",
        "combined_df = pd.DataFrame()"
      ],
      "metadata": {
        "id": "1rqkk-G5gyxv"
      },
      "execution_count": 6,
      "outputs": []
    },
    {
      "cell_type": "code",
      "source": [
        "\n",
        "# Define the expected number of columns\n",
        "base_columns = [\"video_id\", \"uploader\", \"age\", \"category\", \"length\", \"views\", \"rate\", \"ratings\", \"comments\"]\n",
        "max_related_ids = 20  # Assume a maximum of 20 related IDs\n",
        "expected_columns = base_columns + [f'related_id_{i}' for i in range(max_related_ids)]"
      ],
      "metadata": {
        "id": "CBZDQ4Jbj_qH"
      },
      "execution_count": 14,
      "outputs": []
    },
    {
      "cell_type": "code",
      "source": [
        "\n",
        "\n",
        "# Step 4: Prepare to log errors\n",
        "error_log = []\n",
        "\n",
        "# Step 5: Loop through each uploaded file\n",
        "for file_name in uploaded.keys():\n",
        "    try:\n",
        "        # Read each file's content\n",
        "        raw_data = uploaded[file_name].decode('utf-8')\n",
        "\n",
        "        # Split the file content into lines\n",
        "        lines = raw_data.splitlines()\n",
        "\n",
        "        # Use regex to split each line by one or more spaces\n",
        "        data = [re.split(r'\\s+', line.strip()) for line in lines]\n",
        "\n",
        "        # Convert to DataFrame\n",
        "        df = pd.DataFrame(data)\n",
        "\n",
        "        # Dynamically handle columns if they don't match the expected length\n",
        "        if df.shape[1] != len(expected_columns):\n",
        "            print(f\"Warning: {file_name} has {df.shape[1]} columns, expected {len(expected_columns)}.\")\n",
        "            if df.shape[1] < len(expected_columns):\n",
        "                # Pad the missing columns with None values\n",
        "                df = df.reindex(columns=range(len(expected_columns)), fill_value=None)\n",
        "            else:\n",
        "                # If more columns than expected, truncate to the expected length\n",
        "                df = df.iloc[:, :len(expected_columns)]\n",
        "\n",
        "        # Rename the columns\n",
        "        df.columns = expected_columns[:df.shape[1]]\n",
        "\n",
        "        # Append the cleaned DataFrame to the combined DataFrame\n",
        "        combined_df = pd.concat([combined_df, df], ignore_index=True)\n",
        "\n",
        "        print(f\"Successfully processed {file_name}\")\n",
        "\n",
        "    except Exception as e:\n",
        "        error_message = f\"Error processing file {file_name}: {str(e)}\"\n",
        "        print(error_message)\n",
        "        error_log.append(error_message)  # Log the error message"
      ],
      "metadata": {
        "colab": {
          "base_uri": "https://localhost:8080/"
        },
        "id": "cuzBT0h1herD",
        "outputId": "e890cf08-387d-441d-a4c4-8f8a44a181c4"
      },
      "execution_count": 18,
      "outputs": [
        {
          "output_type": "stream",
          "name": "stdout",
          "text": [
            "Warning: 2(2).txt has 31 columns, expected 29.\n",
            "Successfully processed 2(2).txt\n",
            "Warning: 2.txt has 31 columns, expected 29.\n",
            "Successfully processed 2.txt\n",
            "Warning: 3.txt has 31 columns, expected 29.\n",
            "Successfully processed 3.txt\n",
            "Warning: 0 (1).txt has 31 columns, expected 29.\n",
            "Successfully processed 0 (1).txt\n",
            "Warning: 0.txt has 31 columns, expected 29.\n",
            "Successfully processed 0.txt\n",
            "Warning: 1 (1).txt has 31 columns, expected 29.\n",
            "Successfully processed 1 (1).txt\n",
            "Warning: log (1).txt has 12 columns, expected 29.\n",
            "Successfully processed log (1).txt\n",
            "Warning: 0 (2).txt has 31 columns, expected 29.\n",
            "Successfully processed 0 (2).txt\n",
            "Warning: 1 (2).txt has 31 columns, expected 29.\n",
            "Successfully processed 1 (2).txt\n",
            "Warning: 1.txt has 31 columns, expected 29.\n",
            "Successfully processed 1.txt\n",
            "Warning: 3(1).txt has 31 columns, expected 29.\n",
            "Successfully processed 3(1).txt\n",
            "Warning: log (2).txt has 12 columns, expected 29.\n",
            "Successfully processed log (2).txt\n",
            "Warning: 2(1).txt has 31 columns, expected 29.\n",
            "Successfully processed 2(1).txt\n",
            "Warning: 3(2).txt has 31 columns, expected 29.\n",
            "Successfully processed 3(2).txt\n",
            "Warning: log.txt has 12 columns, expected 29.\n",
            "Successfully processed log.txt\n"
          ]
        }
      ]
    },
    {
      "cell_type": "code",
      "source": [
        "# Step 6: View the combined DataFrame\n",
        "print(combined_df.head())"
      ],
      "metadata": {
        "colab": {
          "base_uri": "https://localhost:8080/"
        },
        "id": "QTsqrVcWlefQ",
        "outputId": "f01ad9cb-124c-4a06-e781-2d56bc915b3c"
      },
      "execution_count": 19,
      "outputs": [
        {
          "output_type": "stream",
          "name": "stdout",
          "text": [
            "  video_id uploader        age category     length    views    rate ratings  \\\n",
            "0      BFS    crawl       None     None       None     None    None    None   \n",
            "1              None       None     None       None     None    None    None   \n",
            "2    video      ID,  uploader,     age,  category,  length,  views,   rate,   \n",
            "3              None       None     None       None     None    None    None   \n",
            "4   start:   080329   17:18:11     None       None     None    None    None   \n",
            "\n",
            "   comments related_id_0  ... related_id_10 related_id_11 related_id_12  \\\n",
            "0      None         None  ...           NaN           NaN           NaN   \n",
            "1      None         None  ...           NaN           NaN           NaN   \n",
            "2  ratings,    comments,  ...           NaN           NaN           NaN   \n",
            "3      None         None  ...           NaN           NaN           NaN   \n",
            "4      None         None  ...           NaN           NaN           NaN   \n",
            "\n",
            "  related_id_13 related_id_14 related_id_15 related_id_16 related_id_17  \\\n",
            "0           NaN           NaN           NaN           NaN           NaN   \n",
            "1           NaN           NaN           NaN           NaN           NaN   \n",
            "2           NaN           NaN           NaN           NaN           NaN   \n",
            "3           NaN           NaN           NaN           NaN           NaN   \n",
            "4           NaN           NaN           NaN           NaN           NaN   \n",
            "\n",
            "  related_id_18 related_id_19  \n",
            "0           NaN           NaN  \n",
            "1           NaN           NaN  \n",
            "2           NaN           NaN  \n",
            "3           NaN           NaN  \n",
            "4           NaN           NaN  \n",
            "\n",
            "[5 rows x 29 columns]\n"
          ]
        }
      ]
    },
    {
      "cell_type": "code",
      "source": [
        "# Step 7: Export the combined cleaned data to a CSV file\n",
        "combined_df.to_csv('combined_cleaned_data.csv', index=False)"
      ],
      "metadata": {
        "id": "DgvJp0gIlou5"
      },
      "execution_count": 20,
      "outputs": []
    },
    {
      "cell_type": "code",
      "source": [
        "# Step 8: Download the CSV file\n",
        "files.download('combined_cleaned_data.csv')"
      ],
      "metadata": {
        "colab": {
          "base_uri": "https://localhost:8080/",
          "height": 17
        },
        "id": "X_4wG-2zl2f-",
        "outputId": "e8401408-f394-4ca4-afdd-994b8359aae4"
      },
      "execution_count": 21,
      "outputs": [
        {
          "output_type": "display_data",
          "data": {
            "text/plain": [
              "<IPython.core.display.Javascript object>"
            ],
            "application/javascript": [
              "\n",
              "    async function download(id, filename, size) {\n",
              "      if (!google.colab.kernel.accessAllowed) {\n",
              "        return;\n",
              "      }\n",
              "      const div = document.createElement('div');\n",
              "      const label = document.createElement('label');\n",
              "      label.textContent = `Downloading \"${filename}\": `;\n",
              "      div.appendChild(label);\n",
              "      const progress = document.createElement('progress');\n",
              "      progress.max = size;\n",
              "      div.appendChild(progress);\n",
              "      document.body.appendChild(div);\n",
              "\n",
              "      const buffers = [];\n",
              "      let downloaded = 0;\n",
              "\n",
              "      const channel = await google.colab.kernel.comms.open(id);\n",
              "      // Send a message to notify the kernel that we're ready.\n",
              "      channel.send({})\n",
              "\n",
              "      for await (const message of channel.messages) {\n",
              "        // Send a message to notify the kernel that we're ready.\n",
              "        channel.send({})\n",
              "        if (message.buffers) {\n",
              "          for (const buffer of message.buffers) {\n",
              "            buffers.push(buffer);\n",
              "            downloaded += buffer.byteLength;\n",
              "            progress.value = downloaded;\n",
              "          }\n",
              "        }\n",
              "      }\n",
              "      const blob = new Blob(buffers, {type: 'application/binary'});\n",
              "      const a = document.createElement('a');\n",
              "      a.href = window.URL.createObjectURL(blob);\n",
              "      a.download = filename;\n",
              "      div.appendChild(a);\n",
              "      a.click();\n",
              "      div.remove();\n",
              "    }\n",
              "  "
            ]
          },
          "metadata": {}
        },
        {
          "output_type": "display_data",
          "data": {
            "text/plain": [
              "<IPython.core.display.Javascript object>"
            ],
            "application/javascript": [
              "download(\"download_ab5a1606-28c7-47ae-94e3-75e5b49c3b26\", \"combined_cleaned_data.csv\", 294201420)"
            ]
          },
          "metadata": {}
        }
      ]
    },
    {
      "cell_type": "code",
      "source": [
        "\n",
        "# Step 9: Optionally, save the error log to a file\n",
        "with open('error_log.txt', 'w') as f:\n",
        "    for error in error_log:\n",
        "        f.write(error + '\\n')\n",
        "\n",
        "# Download the error log file\n",
        "files.download('error_log.txt')"
      ],
      "metadata": {
        "colab": {
          "base_uri": "https://localhost:8080/",
          "height": 17
        },
        "id": "xbNnml-VmnGj",
        "outputId": "5539dd66-faf0-4dfd-d455-dc7697178c1f"
      },
      "execution_count": 22,
      "outputs": [
        {
          "output_type": "display_data",
          "data": {
            "text/plain": [
              "<IPython.core.display.Javascript object>"
            ],
            "application/javascript": [
              "\n",
              "    async function download(id, filename, size) {\n",
              "      if (!google.colab.kernel.accessAllowed) {\n",
              "        return;\n",
              "      }\n",
              "      const div = document.createElement('div');\n",
              "      const label = document.createElement('label');\n",
              "      label.textContent = `Downloading \"${filename}\": `;\n",
              "      div.appendChild(label);\n",
              "      const progress = document.createElement('progress');\n",
              "      progress.max = size;\n",
              "      div.appendChild(progress);\n",
              "      document.body.appendChild(div);\n",
              "\n",
              "      const buffers = [];\n",
              "      let downloaded = 0;\n",
              "\n",
              "      const channel = await google.colab.kernel.comms.open(id);\n",
              "      // Send a message to notify the kernel that we're ready.\n",
              "      channel.send({})\n",
              "\n",
              "      for await (const message of channel.messages) {\n",
              "        // Send a message to notify the kernel that we're ready.\n",
              "        channel.send({})\n",
              "        if (message.buffers) {\n",
              "          for (const buffer of message.buffers) {\n",
              "            buffers.push(buffer);\n",
              "            downloaded += buffer.byteLength;\n",
              "            progress.value = downloaded;\n",
              "          }\n",
              "        }\n",
              "      }\n",
              "      const blob = new Blob(buffers, {type: 'application/binary'});\n",
              "      const a = document.createElement('a');\n",
              "      a.href = window.URL.createObjectURL(blob);\n",
              "      a.download = filename;\n",
              "      div.appendChild(a);\n",
              "      a.click();\n",
              "      div.remove();\n",
              "    }\n",
              "  "
            ]
          },
          "metadata": {}
        },
        {
          "output_type": "display_data",
          "data": {
            "text/plain": [
              "<IPython.core.display.Javascript object>"
            ],
            "application/javascript": [
              "download(\"download_3a0b2d4a-8cbb-4d8a-b310-9efcfed7854a\", \"error_log.txt\", 0)"
            ]
          },
          "metadata": {}
        }
      ]
    }
  ],
  "metadata": {
    "colab": {
      "provenance": [],
      "authorship_tag": "ABX9TyMU2iJK6yMIB/AUEwpxrkV8",
      "include_colab_link": true
    },
    "kernelspec": {
      "display_name": "Python 3",
      "name": "python3"
    },
    "language_info": {
      "name": "python"
    }
  },
  "nbformat": 4,
  "nbformat_minor": 0
}