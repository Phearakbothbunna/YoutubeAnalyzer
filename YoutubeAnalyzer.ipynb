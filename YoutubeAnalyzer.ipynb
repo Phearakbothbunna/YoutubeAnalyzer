{
 "cells": [
  {
   "cell_type": "code",
   "id": "initial_id",
   "metadata": {
    "ExecuteTime": {
     "end_time": "2024-11-12T02:23:41.079374Z",
     "start_time": "2024-11-12T02:23:40.540295Z"
    }
   },
   "source": [
    "# Import needed libraries\n",
    "import pandas as pd\n",
    "\n",
    "### This is for loading the data\n",
    "\n",
    "# The crawl dataset we are using do not have column names or headings so we need to handle that\n",
    "column_names = ['videoID', 'uploader', 'age', 'category', 'length', 'views', 'rate', 'ratings', 'comments', 'relatedIDs']\n",
    "\n",
    "# Load YouTube data for each depth file(we have 4 depths in total starting from 0)\n",
    "def load_depth(path, crawl_date, depth):\n",
    "    # Initialize a list to store the valid rows\n",
    "    valid_rows = []\n",
    "    # Read our dataset line by line\n",
    "    # We were using pandas to load/read data at first but there were errors when the 1st row only has 1 or 2 column and pandas were assuming that's all the columns we have (inconsistent)\n",
    "    # so we decided to go with this route instead and it works\n",
    "    with open(path, 'r') as file:\n",
    "        for line in file:\n",
    "            # Split the line by tab and check if it has at least 2 columns\n",
    "            # Some rows might have only 1 or 2 columns which is not useful for us, so we ignore them\n",
    "            # this way it helps with fixing the issues with some rows having only 1 column as well\n",
    "            split_line = line.strip().split('\\t')\n",
    "            if len(split_line) >= 2:\n",
    "                valid_rows.append(split_line)       \n",
    "    # Convert the list into pandas dataframe\n",
    "    depth_data = pd.DataFrame(valid_rows)\n",
    "    depth_data['crawl_date'] = crawl_date\n",
    "    depth_data['depth'] = depth\n",
    "    return depth_data\n",
    "\n",
    "# Load all depth files for a single crawl\n",
    "def load_crawl(path, crawl_date):\n",
    "    # Load depth file 0, 1, 2 and 3\n",
    "    depth_files = [f\"{path}/{i}.txt\" for i in range(4)]\n",
    "    depth_dframe = []\n",
    "    # Loop through the total depth files and add the dataframe to depth_dframe list\n",
    "    for i, depth_file in enumerate (depth_files):\n",
    "        depth_dframe.append(load_depth(depth_file, crawl_date, i))\n",
    "    # Now for each crawl, we combine all depths into a single dataframe\n",
    "    combined_data = pd.concat(depth_dframe, axis=0).reset_index(drop = True)\n",
    "    return combined_data"
   ],
   "outputs": [],
   "execution_count": 1
  },
  {
   "cell_type": "code",
   "id": "b16f2c66de2967c8",
   "metadata": {
    "ExecuteTime": {
     "end_time": "2024-11-12T02:23:42.877996Z",
     "start_time": "2024-11-12T02:23:42.872164Z"
    }
   },
   "source": [
    "### This is for cleaning and transformation the data (Data Preparation)\n",
    "def prepare_data(df):\n",
    "    # Since there may be more than 1 related ids, we handle it by combining the related IDs together as a single list\n",
    "    combined_related_ids = []\n",
    "    # Loop over each row and combine the related IDs\n",
    "    for index, row in df.iterrows():\n",
    "        # We select the related IDs columns (from the 10th column onward) \n",
    "        # The dataset description says the related IDs is up to 20 strings only \n",
    "        related_ids = row[9:29]  \n",
    "        # Join the cleaned related IDs into a single string separated by commas then add to the list\n",
    "        combined_related_ids.append(','.join(related_ids.astype(str)))\n",
    "    # Add the combined relatedIDs to the DataFrame\n",
    "    df['relatedIDs'] = combined_related_ids\n",
    "    # Keep only the first 9 columns plus the new combined 'relatedIDs' column\n",
    "    depth_data = df.iloc[:, :9].copy() \n",
    "    depth_data['relatedIDs'] = combined_related_ids \n",
    "    # Keep the crawl_date and depth column \n",
    "    depth_data[['crawl_date', 'depth']] = df[['crawl_date', 'depth']] \n",
    "    # Add the column names to each column\n",
    "    depth_data.columns = column_names + ['crawl_date', 'depth']\n",
    "    # Remove the leading/trailing whitespace from string columns\n",
    "    depth_data['uploader'] = depth_data['uploader'].str.strip()\n",
    "    depth_data['category'] = depth_data['category'].str.strip()\n",
    "    # Convert these columns to numeric\n",
    "    numeric_columns = ['age', 'length', 'views', 'rate', 'ratings', 'comments']\n",
    "    for col in numeric_columns:\n",
    "        depth_data[col] = pd.to_numeric(depth_data[col])   \n",
    "    # Fill in the missing 'rate' values with the mean of the column\n",
    "    depth_data['rate'] = depth_data['rate'].fillna(depth_data['rate'].mean())\n",
    "    return depth_data"
   ],
   "outputs": [],
   "execution_count": 2
  },
  {
   "cell_type": "code",
   "id": "185e68b1be917648",
   "metadata": {
    "ExecuteTime": {
     "end_time": "2024-11-12T02:24:32.501243Z",
     "start_time": "2024-11-12T02:23:45.314179Z"
    }
   },
   "source": [
    "# testing = (load_depth(\"data/080331/2.txt\", '2008-03-31', \"2\"))\n",
    "# clean = clean_data(testing)\n",
    "# print(clean)\n",
    "\n",
    "# Load all the crawls in the given dataset\n",
    "crawl1 = load_crawl('data/080327', '2008-03-27')\n",
    "crawl2 = load_crawl('data/080329', '2008-03-29')\n",
    "crawl3 = load_crawl('data/080331', '2008-03-31')\n",
    "# Combine all crawls into a single dataframe\n",
    "combined_data = pd.concat([crawl1, crawl2, crawl3], axis=0).reset_index(drop=True)\n",
    "# Prepare the data (clean & transform)\n",
    "combined_data = prepare_data(combined_data)\n",
    "print(combined_data.head())"
   ],
   "outputs": [
    {
     "name": "stdout",
     "output_type": "stream",
     "text": [
      "       videoID           uploader   age         category  length   views  \\\n",
      "0  gFa1YMEJFag            sxephil  1135    Entertainment     270  101384   \n",
      "1  pSJ4hv28zaI  thecomputernerd01  1136           Comedy     216     458   \n",
      "2  uHVEDq6RVXc    barelypolitical  1134  News & Politics      56  555203   \n",
      "3  K7Om0QZy-38          SouljaBoy  1134            Music     185   91293   \n",
      "4  DCAO6bZa31o    AssociatedPress  1134  News & Politics      45  108095   \n",
      "\n",
      "   rate  ratings  comments                                         relatedIDs  \\\n",
      "0  4.72     3407      2887  QuRYeRnAuXM,3TYqkBJ9YRk,rSJ8QZWBegU,nRcovJn9xH...   \n",
      "1  4.80      133      2183  dh6dF1XY3uI,_a0gQFOJYWM,UzPldH0vuHY,h9gRdAmGFn...   \n",
      "2  4.70     3574      2117  aYHBqH_xbCw,SfaxA9Q-9AQ,1cWWE3A2mDI,exT_E9FNu8...   \n",
      "3  3.19     1063      1132  UCeA4K2-wNk,BDmhe0vIFiQ,9xSvVPa41Cg,3Cc7-4OeAg...   \n",
      "4  3.58      264      1069  5vLbA7n8EG0,3ZbXJp-NUZc,McYsnvAymV8,MaE1kowuCB...   \n",
      "\n",
      "   crawl_date  depth  \n",
      "0  2008-03-27      0  \n",
      "1  2008-03-27      0  \n",
      "2  2008-03-27      0  \n",
      "3  2008-03-27      0  \n",
      "4  2008-03-27      0  \n"
     ]
    }
   ],
   "execution_count": 3
  },
  {
   "cell_type": "code",
   "id": "28e03963de74113b",
   "metadata": {},
   "source": [
    "# Data ingestion and connection with MongoDB\n",
    "from pymongo import MongoClient\n",
    "# Connect to MongoDb database that we have created\n",
    "uri = 'mongodb://localhost:27017/'\n",
    "client = MongoClient(uri)\n",
    "db = client[\"youtubedb\"]\n",
    "collection = db[\"youtube_vids\"]\n",
    "# this prevents duplicate from running this section more than once\n",
    "collection.delete_many({})\n",
    "# Convert the DataFrame into a list of dictionaries\n",
    "insert_data = combined_data.to_dict('records')\n",
    "# Insert the data into the collection\n",
    "collection.insert_many(insert_data)"
   ],
   "outputs": [],
   "execution_count": null
  },
  {
   "cell_type": "code",
   "id": "b1b431fb-5ac4-453b-a3e7-921701e09b87",
   "metadata": {
    "ExecuteTime": {
     "end_time": "2024-11-12T02:42:55.696333Z",
     "start_time": "2024-11-12T02:42:54.822545Z"
    }
   },
   "source": [
    "# Validation Queries\n",
    "\n",
    "# Query 1: Validate Document Count\n",
    "document_count = collection.count_documents({})\n",
    "print(\"Total documents:\", document_count)\n",
    "\n",
    "# Query 2: Check Category Distribution\n",
    "category_counts = collection.aggregate([\n",
    "    { \"$group\": { \"_id\": \"$category\", \"count\": { \"$sum\": 1 } } }\n",
    "])\n",
    "print(\"Category distribution:\")\n",
    "for category in category_counts:\n",
    "    print(category)\n",
    "\n",
    "# Query 3: Check Average and Max Views\n",
    "view_stats = collection.aggregate([\n",
    "    { \"$group\": { \"_id\": None, \"avgViews\": { \"$avg\": \"$views\" }, \"maxViews\": { \"$max\": \"$views\" } } }\n",
    "])\n",
    "print(\"View statistics:\")\n",
    "for stats in view_stats:\n",
    "    print(stats)\n",
    "\n",
    "# Query 4: Validate Related IDs Format\n",
    "related_id_check = collection.find({\"relatedIDs\": {\"$exists\": True, \"$type\": \"string\"}}).limit(5)\n",
    "print(\"Sample related IDs:\")\n",
    "for doc in related_id_check:\n",
    "    print(doc['relatedIDs'])\n"
   ],
   "outputs": [
    {
     "name": "stdout",
     "output_type": "stream",
     "text": [
      "Total documents: 645731\n",
      "Category distribution:\n",
      "{'_id': 'Science & Technology', 'count': 7138}\n",
      "{'_id': 'Howto & Style', 'count': 18031}\n",
      "{'_id': 'Autos & Vehicles', 'count': 19237}\n",
      "{'_id': 'News & Politics', 'count': 30913}\n",
      "{'_id': 'People & Blogs', 'count': 56036}\n",
      "{'_id': 'UNA', 'count': 8061}\n",
      "{'_id': 'Sports', 'count': 48265}\n",
      "{'_id': 'Comedy', 'count': 61113}\n",
      "{'_id': 'Music', 'count': 156208}\n",
      "{'_id': 'Nonprofits & Activism', 'count': 2210}\n",
      "{'_id': 'Travel & Events', 'count': 8812}\n",
      "{'_id': 'Film & Animation', 'count': 51459}\n",
      "{'_id': 'Entertainment', 'count': 162044}\n",
      "{'_id': 'Pets & Animals', 'count': 11325}\n",
      "{'_id': 'Education', 'count': 4879}\n",
      "View statistics:\n",
      "{'_id': None, 'avgViews': 82669.36544938992, 'maxViews': 79897120}\n",
      "Sample related IDs:\n",
      "QuRYeRnAuXM,3TYqkBJ9YRk,rSJ8QZWBegU,nRcovJn9xHg,UEvVksP91kg,sVkuOk4jmCo,ZTopArY7Nbg,0RViGi2Rne8,HT_QlOJbDpg,ShhClb6J-NA,g9e1alirMhc,YZev1imoxX8,I4yKEK9o8gA,1GKaVzNDbuI,yuZhwV24PmM,zQ83d_D2MGs,DomumdGQSg8,pFUYi7dp1WU,2l6vwAIAqNU,hiSmlmXp-aU\n",
      "dh6dF1XY3uI,_a0gQFOJYWM,UzPldH0vuHY,h9gRdAmGFnM,rKWq0l6YiT0,M67aD5lLC2M,gP0jnBrVEpI,geUY_esOrt0,kIxj9S6jiB4,mfUwgrwkqiI,0jjrvtqa-BQ,VoPgxHja4Os,QJMZjx4L0BA,OshpuI9BGVU,eBGIQ7ZuuiU,L3mR8syHNIg,McZ3lP8lb6E,WsaQ0dQhXnA,16XHS2R_mEo,lhGZVgoDub0\n",
      "aYHBqH_xbCw,SfaxA9Q-9AQ,1cWWE3A2mDI,exT_E9FNu84,osqnkdc349s,iOsGo_HWP-c,5lWlN8g2dAc,ZCYtPT_bpTI,6KqmfUFZbBw,Y_hAXbgxXp8,IxVsdS887HA,L1WYOl2_5Kg,bjAuzPnJ82A,E8_odhuWfTk,TKe2rBbGGEA,lwrxclIGJqk,T3depGF5E-0,9l2qbaOMbcU,8BfNqhV5hg4,2hZx3yBoNw4\n",
      "UCeA4K2-wNk,BDmhe0vIFiQ,9xSvVPa41Cg,3Cc7-4OeAgM,NDtHpG0c0Cc,e5L0hW2Dj10,UmAa8JTm1Cc,-zDIXUSL174,QXEdjYf5ezY,G84LhBePK6k,OnosHPTij3M,yhGd25KcOh4,Cj_S_rut3LQ,XNyINFMHHm4,6hIis-_GIXk,hd6yq-HIibI,ZEDYzwdqHrU,t02kRsw1AUU,H4kZqk1NF4U,J52gclijmWw\n",
      "5vLbA7n8EG0,3ZbXJp-NUZc,McYsnvAymV8,MaE1kowuCBQ,N1RMCuIUB9c,FZK4BRN6D9w,pM3GHI5xR9U,3ds7V085k7g,clhOnZRrmXc,TPUZqcibh4E,OIxgw04Y0Fc,13YOGHzzoMA,16s-pJs69UU,kHKefMuCqlk,1A1thQqUvAI,awVJCNMw1To,FJETon8XRxY,3t8GdtYdRk0,o5t3PwKccOo,ype6Hw_Hmjo\n"
     ]
    }
   ],
   "execution_count": 15
  },
  {
   "cell_type": "code",
   "id": "4535ff3b-a8ed-4402-8d84-a42a18e194f0",
   "metadata": {
    "ExecuteTime": {
     "end_time": "2024-11-12T02:38:20.980816Z",
     "start_time": "2024-11-12T02:38:13.330833Z"
    }
   },
   "source": [
    "import time\n",
    "\n",
    "# Clear the collection to avoid duplicate entries\n",
    "collection.delete_many({})\n",
    "print(\"Collection cleared.\")\n",
    "\n",
    "# Start timer\n",
    "start_time = time.time()\n",
    "\n",
    "# Ingest data (insert many records)\n",
    "collection.insert_many(insert_data)\n",
    "\n",
    "# End timer\n",
    "end_time = time.time()\n",
    "\n",
    "# Calculate and print ingestion time\n",
    "ingestion_time = end_time - start_time\n",
    "print(f\"Data ingestion took {ingestion_time:.2f} seconds\")\n"
   ],
   "outputs": [
    {
     "name": "stdout",
     "output_type": "stream",
     "text": [
      "Collection cleared.\n",
      "Data ingestion took 7.62 seconds\n"
     ]
    }
   ],
   "execution_count": 12
  },
  {
   "cell_type": "code",
   "id": "b0a863e2-6488-4d10-a662-9a607141701d",
   "metadata": {
    "ExecuteTime": {
     "end_time": "2024-11-12T02:27:04.675827Z",
     "start_time": "2024-11-12T02:27:04.452858Z"
    }
   },
   "source": [
    "import time\n",
    "\n",
    "# Measure execution time for document count\n",
    "start_time = time.time()\n",
    "document_count = collection.count_documents({})\n",
    "end_time = time.time()\n",
    "\n",
    "# Print results\n",
    "print(\"Total documents:\", document_count)\n",
    "print(f\"Document count query took {end_time - start_time:.4f} seconds\")\n"
   ],
   "outputs": [
    {
     "name": "stdout",
     "output_type": "stream",
     "text": [
      "Total documents: 645731\n",
      "Document count query took 0.2190 seconds\n"
     ]
    }
   ],
   "execution_count": 7
  },
  {
   "cell_type": "code",
   "id": "158889be-f784-46e1-a43f-c11ff8a84031",
   "metadata": {
    "ExecuteTime": {
     "end_time": "2024-11-12T02:28:23.198371Z",
     "start_time": "2024-11-12T02:28:22.930155Z"
    }
   },
   "source": [
    "# Measure execution time for category distribution query\n",
    "start_time = time.time()\n",
    "category_counts = collection.aggregate([\n",
    "    { \"$group\": { \"_id\": \"$category\", \"count\": { \"$sum\": 1 } } }\n",
    "])\n",
    "\n",
    "# Collect results to ensure the query executes fully\n",
    "categories = list(category_counts)\n",
    "end_time = time.time()\n",
    "\n",
    "# Print results and time\n",
    "print(\"Category distribution:\")\n",
    "for category in categories:\n",
    "    print(category)\n",
    "print(f\"Category distribution query took {end_time - start_time:.4f} seconds\")\n"
   ],
   "outputs": [
    {
     "name": "stdout",
     "output_type": "stream",
     "text": [
      "Category distribution:\n",
      "{'_id': 'Autos & Vehicles', 'count': 19237}\n",
      "{'_id': 'Howto & Style', 'count': 18031}\n",
      "{'_id': 'Education', 'count': 4879}\n",
      "{'_id': 'News & Politics', 'count': 30913}\n",
      "{'_id': 'People & Blogs', 'count': 56036}\n",
      "{'_id': 'UNA', 'count': 8061}\n",
      "{'_id': 'Sports', 'count': 48265}\n",
      "{'_id': 'Comedy', 'count': 61113}\n",
      "{'_id': 'Music', 'count': 156208}\n",
      "{'_id': 'Nonprofits & Activism', 'count': 2210}\n",
      "{'_id': 'Travel & Events', 'count': 8812}\n",
      "{'_id': 'Film & Animation', 'count': 51459}\n",
      "{'_id': 'Entertainment', 'count': 162044}\n",
      "{'_id': 'Pets & Animals', 'count': 11325}\n",
      "{'_id': 'Science & Technology', 'count': 7138}\n",
      "Category distribution query took 0.2644 seconds\n"
     ]
    }
   ],
   "execution_count": 8
  },
  {
   "cell_type": "code",
   "id": "a7e1f2b4-3f7a-458a-9cc2-e1041f50c426",
   "metadata": {
    "ExecuteTime": {
     "end_time": "2024-11-12T02:28:25.905164Z",
     "start_time": "2024-11-12T02:28:25.473907Z"
    }
   },
   "source": [
    "# Measure execution time for view statistics query\n",
    "start_time = time.time()\n",
    "view_stats = collection.aggregate([\n",
    "    { \"$group\": { \"_id\": None, \"avgViews\": { \"$avg\": \"$views\" }, \"maxViews\": { \"$max\": \"$views\" } } }\n",
    "])\n",
    "\n",
    "# Collect results to ensure the query executes fully\n",
    "view_stats_result = list(view_stats)\n",
    "end_time = time.time()\n",
    "\n",
    "# Print results and time\n",
    "print(\"View statistics:\", view_stats_result)\n",
    "print(f\"View statistics query took {end_time - start_time:.4f} seconds\")\n"
   ],
   "outputs": [
    {
     "name": "stdout",
     "output_type": "stream",
     "text": [
      "View statistics: [{'_id': None, 'avgViews': 82669.36544938992, 'maxViews': 79897120}]\n",
      "View statistics query took 0.4275 seconds\n"
     ]
    }
   ],
   "execution_count": 9
  },
  {
   "cell_type": "code",
   "id": "7b586804-b789-4b02-abfb-be84f4444aa6",
   "metadata": {
    "ExecuteTime": {
     "end_time": "2024-11-12T02:28:29.387374Z",
     "start_time": "2024-11-12T02:28:29.381176Z"
    }
   },
   "source": [
    "# Measure execution time for related IDs format check\n",
    "start_time = time.time()\n",
    "related_id_check = collection.find({\"relatedIDs\": {\"$exists\": True, \"$type\": \"string\"}}).limit(5)\n",
    "\n",
    "# Collect results to ensure the query executes fully\n",
    "related_ids = list(related_id_check)\n",
    "end_time = time.time()\n",
    "\n",
    "# Print results and time\n",
    "print(\"Sample related IDs:\")\n",
    "for doc in related_ids:\n",
    "    print(doc['relatedIDs'])\n",
    "print(f\"Related IDs check query took {end_time - start_time:.4f} seconds\")\n"
   ],
   "outputs": [
    {
     "name": "stdout",
     "output_type": "stream",
     "text": [
      "Sample related IDs:\n",
      "QuRYeRnAuXM,3TYqkBJ9YRk,rSJ8QZWBegU,nRcovJn9xHg,UEvVksP91kg,sVkuOk4jmCo,ZTopArY7Nbg,0RViGi2Rne8,HT_QlOJbDpg,ShhClb6J-NA,g9e1alirMhc,YZev1imoxX8,I4yKEK9o8gA,1GKaVzNDbuI,yuZhwV24PmM,zQ83d_D2MGs,DomumdGQSg8,pFUYi7dp1WU,2l6vwAIAqNU,hiSmlmXp-aU\n",
      "dh6dF1XY3uI,_a0gQFOJYWM,UzPldH0vuHY,h9gRdAmGFnM,rKWq0l6YiT0,M67aD5lLC2M,gP0jnBrVEpI,geUY_esOrt0,kIxj9S6jiB4,mfUwgrwkqiI,0jjrvtqa-BQ,VoPgxHja4Os,QJMZjx4L0BA,OshpuI9BGVU,eBGIQ7ZuuiU,L3mR8syHNIg,McZ3lP8lb6E,WsaQ0dQhXnA,16XHS2R_mEo,lhGZVgoDub0\n",
      "aYHBqH_xbCw,SfaxA9Q-9AQ,1cWWE3A2mDI,exT_E9FNu84,osqnkdc349s,iOsGo_HWP-c,5lWlN8g2dAc,ZCYtPT_bpTI,6KqmfUFZbBw,Y_hAXbgxXp8,IxVsdS887HA,L1WYOl2_5Kg,bjAuzPnJ82A,E8_odhuWfTk,TKe2rBbGGEA,lwrxclIGJqk,T3depGF5E-0,9l2qbaOMbcU,8BfNqhV5hg4,2hZx3yBoNw4\n",
      "UCeA4K2-wNk,BDmhe0vIFiQ,9xSvVPa41Cg,3Cc7-4OeAgM,NDtHpG0c0Cc,e5L0hW2Dj10,UmAa8JTm1Cc,-zDIXUSL174,QXEdjYf5ezY,G84LhBePK6k,OnosHPTij3M,yhGd25KcOh4,Cj_S_rut3LQ,XNyINFMHHm4,6hIis-_GIXk,hd6yq-HIibI,ZEDYzwdqHrU,t02kRsw1AUU,H4kZqk1NF4U,J52gclijmWw\n",
      "5vLbA7n8EG0,3ZbXJp-NUZc,McYsnvAymV8,MaE1kowuCBQ,N1RMCuIUB9c,FZK4BRN6D9w,pM3GHI5xR9U,3ds7V085k7g,clhOnZRrmXc,TPUZqcibh4E,OIxgw04Y0Fc,13YOGHzzoMA,16s-pJs69UU,kHKefMuCqlk,1A1thQqUvAI,awVJCNMw1To,FJETon8XRxY,3t8GdtYdRk0,o5t3PwKccOo,ype6Hw_Hmjo\n",
      "Related IDs check query took 0.0010 seconds\n"
     ]
    }
   ],
   "execution_count": 10
  }
 ],
 "metadata": {
  "kernelspec": {
   "display_name": "Python 3 (ipykernel)",
   "language": "python",
   "name": "python3"
  },
  "language_info": {
   "codemirror_mode": {
    "name": "ipython",
    "version": 3
   },
   "file_extension": ".py",
   "mimetype": "text/x-python",
   "name": "python",
   "nbconvert_exporter": "python",
   "pygments_lexer": "ipython3",
   "version": "3.12.6"
  }
 },
 "nbformat": 4,
 "nbformat_minor": 5
}
