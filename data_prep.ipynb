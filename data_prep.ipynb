{
 "cells": [
  {
   "cell_type": "code",
   "id": "initial_id",
   "metadata": {
    "collapsed": true,
    "ExecuteTime": {
     "end_time": "2024-10-13T23:44:34.366286Z",
     "start_time": "2024-10-13T23:44:34.356872Z"
    }
   },
   "source": [
    "# Import needed libraries\n",
    "import pandas as pd\n",
    "\n",
    "### This is for loading the data\n",
    "\n",
    "# The crawl dataset we are using do not have column names or headings so we need to handle that\n",
    "column_names = ['videoID', 'uploader', 'age', 'category', 'length', 'views', 'rate', 'ratings', 'comments', 'relatedIDs']\n",
    "\n",
    "# Load YouTube data for each depth file(we have 4 depths in total starting from 0)\n",
    "def load_depth(path, crawl_date, depth):\n",
    "    # Initialize a list to store the valid rows\n",
    "    # Some rows might have only 1 or 2 columns which is not useful for us, so we ignore them\n",
    "    valid_rows = []\n",
    "    # Read our dataset line by line\n",
    "    with open(path, 'r') as file:\n",
    "        for line in file:\n",
    "            # Split the line by tab and check if it has at least 2 columns\n",
    "            split_line = line.strip().split('\\t')\n",
    "            if len(split_line) >= 2:\n",
    "                valid_rows.append(split_line)       \n",
    "    # Convert the list into\n",
    "    depth_data = pd.DataFrame(valid_rows)\n",
    "    depth_data['crawl_date'] = crawl_date\n",
    "    depth_data['depth'] = depth\n",
    "    return depth_data\n",
    "\n",
    "# Load all depth files for a single crawl\n",
    "def load_crawl(path, crawl_date):\n",
    "    # Load depth file 0, 1, 2 and 3\n",
    "    depth_files = [f\"{path}/{i}.txt\" for i in range(4)]\n",
    "    depth_dframe = []\n",
    "    # Loop through the total depth files and add the dataframe to depth_dframe list\n",
    "    for i, depth_file in enumerate (depth_files):\n",
    "        depth_dframe.append(load_depth(depth_file, crawl_date, i))\n",
    "    # Now for each crawl, we combine all depths into a single dataframe\n",
    "    combined_data = pd.concat(depth_dframe, axis=0).reset_index(drop = True)\n",
    "    return combined_data"
   ],
   "outputs": [],
   "execution_count": 249
  },
  {
   "metadata": {
    "ExecuteTime": {
     "end_time": "2024-10-13T23:44:34.374559Z",
     "start_time": "2024-10-13T23:44:34.370296Z"
    }
   },
   "cell_type": "code",
   "source": [
    "### This is for cleaning and transformation the data (Data Preparation)\n",
    "def prepare_data(df):\n",
    "    # Since there may be more than 1 related ids, we handle it by combining the related IDs together as a single list\n",
    "    combined_related_ids = []\n",
    "    # Loop over each row and combine the related IDs\n",
    "    for index, row in df.iterrows():\n",
    "        # We select the related IDs columns (from the 10th column onward) \n",
    "        # The dataset description says the related IDs is up to 20 strings only \n",
    "        related_ids = row[9:29]  \n",
    "        # Join the cleaned related IDs into a single string separated by commas then add to the list\n",
    "        combined_related_ids.append(','.join(related_ids.astype(str)))\n",
    "    # Add the combined relatedIDs to the DataFrame\n",
    "    df['relatedIDs'] = combined_related_ids\n",
    "    # Keep only the first 9 columns plus the new combined 'relatedIDs' column\n",
    "    depth_data = df.iloc[:, :9].copy() \n",
    "    depth_data['relatedIDs'] = combined_related_ids \n",
    "    # Keep the crawl_date and depth column \n",
    "    depth_data[['crawl_date', 'depth']] = df[['crawl_date', 'depth']] \n",
    "    # Add the column names to each column\n",
    "    depth_data.columns = column_names + ['crawl_date', 'depth']\n",
    "    # Remove the leading/trailing whitespace from string columns\n",
    "    depth_data['uploader'] = depth_data['uploader'].str.strip()\n",
    "    depth_data['category'] = depth_data['category'].str.strip()\n",
    "    # Convert these columns to numeric\n",
    "    numeric_columns = ['age', 'length', 'views', 'rate', 'ratings', 'comments']\n",
    "    for col in numeric_columns:\n",
    "        depth_data[col] = pd.to_numeric(depth_data[col])   \n",
    "    # Fill in the missing 'rate' values with the mean of the column\n",
    "    depth_data['rate'] = depth_data['rate'].fillna(depth_data['rate'].mean())\n",
    "    return depth_data"
   ],
   "id": "b16f2c66de2967c8",
   "outputs": [],
   "execution_count": 250
  },
  {
   "metadata": {
    "ExecuteTime": {
     "end_time": "2024-10-13T23:45:16.955978Z",
     "start_time": "2024-10-13T23:44:35.081767Z"
    }
   },
   "cell_type": "code",
   "source": [
    "# testing = (load_depth(\"data/080331/2.txt\", '2008-03-31', \"2\"))\n",
    "# clean = clean_data(testing)\n",
    "# print(clean)\n",
    "\n",
    "# Load all the crawls in the given dataset\n",
    "crawl1 = load_crawl('data/080327', '2008-03-27')\n",
    "crawl2 = load_crawl('data/080329', '2008-03-29')\n",
    "crawl3 = load_crawl('data/080331', '2008-03-31')\n",
    "# Combine all crawls into a single dataframe\n",
    "combined_data = pd.concat([crawl1, crawl2, crawl3], axis=0).reset_index(drop=True)\n",
    "# Prepare the data (clean & transform)\n",
    "combined_data = prepare_data(combined_data)\n",
    "print(combined_data.head())"
   ],
   "id": "185e68b1be917648",
   "outputs": [
    {
     "name": "stdout",
     "output_type": "stream",
     "text": [
      "       videoID           uploader   age         category  length   views  \\\n",
      "0  gFa1YMEJFag            sxephil  1135    Entertainment     270  101384   \n",
      "1  pSJ4hv28zaI  thecomputernerd01  1136           Comedy     216     458   \n",
      "2  uHVEDq6RVXc    barelypolitical  1134  News & Politics      56  555203   \n",
      "3  K7Om0QZy-38          SouljaBoy  1134            Music     185   91293   \n",
      "4  DCAO6bZa31o    AssociatedPress  1134  News & Politics      45  108095   \n",
      "\n",
      "   rate  ratings  comments                                         relatedIDs  \\\n",
      "0  4.72     3407      2887  QuRYeRnAuXM,3TYqkBJ9YRk,rSJ8QZWBegU,nRcovJn9xH...   \n",
      "1  4.80      133      2183  dh6dF1XY3uI,_a0gQFOJYWM,UzPldH0vuHY,h9gRdAmGFn...   \n",
      "2  4.70     3574      2117  aYHBqH_xbCw,SfaxA9Q-9AQ,1cWWE3A2mDI,exT_E9FNu8...   \n",
      "3  3.19     1063      1132  UCeA4K2-wNk,BDmhe0vIFiQ,9xSvVPa41Cg,3Cc7-4OeAg...   \n",
      "4  3.58      264      1069  5vLbA7n8EG0,3ZbXJp-NUZc,McYsnvAymV8,MaE1kowuCB...   \n",
      "\n",
      "   crawl_date  depth  \n",
      "0  2008-03-27      0  \n",
      "1  2008-03-27      0  \n",
      "2  2008-03-27      0  \n",
      "3  2008-03-27      0  \n",
      "4  2008-03-27      0  \n"
     ]
    }
   ],
   "execution_count": 251
  },
  {
   "metadata": {
    "ExecuteTime": {
     "end_time": "2024-10-13T23:45:17.501136Z",
     "start_time": "2024-10-13T23:45:17.497047Z"
    }
   },
   "cell_type": "code",
   "source": [
    "# # Function to connect and insert into MongoDB\n",
    "# def insert_to_mongo(db, collection_name, records):\n",
    "#     # Insert records into MongoDB\n",
    "#     db[collection_name].insert_many(records)\n",
    "# \n",
    "# # Main function\n",
    "# def main():\n",
    "#     # For each crawl, load and process all depth files\n",
    "#     crawl1 = load_crawl('data/080327', '2008-03-27')\n",
    "#     crawl2 = load_crawl('data/080329', '2008-03-29')\n",
    "#     crawl3 = load_crawl('data/080331', '2008-03-31')\n",
    "# \n",
    "#     # Combine all crawls into a single dataframe\n",
    "#     combined_data = pd.concat([crawl1, crawl2, crawl3], axis=0).reset_index(drop=True)\n",
    "# \n",
    "#     # Clean the combined data\n",
    "#     combined_data = clean_data(combined_data)\n",
    "# \n",
    "#     # Transform the combined data\n",
    "#     combined_data = transform_data(combined_data)\n",
    "# \n",
    "#     print(combined_data.head())\n",
    "# main()"
   ],
   "id": "b699bed7c99da94d",
   "outputs": [],
   "execution_count": 252
  }
 ],
 "metadata": {
  "kernelspec": {
   "display_name": "Python 3",
   "language": "python",
   "name": "python3"
  },
  "language_info": {
   "codemirror_mode": {
    "name": "ipython",
    "version": 2
   },
   "file_extension": ".py",
   "mimetype": "text/x-python",
   "name": "python",
   "nbconvert_exporter": "python",
   "pygments_lexer": "ipython2",
   "version": "2.7.6"
  }
 },
 "nbformat": 4,
 "nbformat_minor": 5
}
