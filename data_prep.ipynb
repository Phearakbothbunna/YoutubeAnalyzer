{
 "cells": [
  {
   "cell_type": "code",
   "id": "initial_id",
   "metadata": {
    "collapsed": true
   },
   "source": [
    "# Import needed libraries\n",
    "import pandas as pd\n",
    "\n",
    "### This is for loading the data\n",
    "\n",
    "# The crawl dataset we are using do not have column names or headings so we need to handle that\n",
    "column_names = ['videoID', 'uploader', 'age', 'category', 'length', 'views', 'rate', 'ratings', 'comments', 'relatedIDs']\n",
    "\n",
    "# Load YouTube data for each depth file(we have 4 depths in total starting from 0)\n",
    "def load_depth(path, crawl_date, depth):\n",
    "    # Initialize a list to store the valid rows\n",
    "    # Some rows might have only 1 or 2 columns which is not useful for us, so we ignore them\n",
    "    valid_rows = []\n",
    "    # Read our dataset line by line\n",
    "    with open(path, 'r') as file:\n",
    "        for line in file:\n",
    "            # Split the line by tab and check if it has at least 2 columns\n",
    "            split_line = line.strip().split('\\t')\n",
    "            if len(split_line) >= 2:\n",
    "                valid_rows.append(split_line)         \n",
    "    depth_data = pd.DataFrame(valid_rows)\n",
    "    return depth_data\n",
    "\n",
    "# Load all depth files for a single crawl\n",
    "def load_crawl(path, crawl_date):\n",
    "    # Load depth file 0, 1, 2 and 3\n",
    "    depth_files = [f\"{path}/{i}.txt\" for i in range(4)]\n",
    "    depth_dframe = []\n",
    "    # Loop through the total depth files and add the dataframe to depth_dframe list\n",
    "    for i, depth_file in enumerate (depth_files):\n",
    "        depth_dframe.append(load_depth(depth_file, crawl_date, i))\n",
    "    # Now for each crawl, we combine all depths into a single dataframe\n",
    "    combined_data = pd.concat(depth_dframe, axis=0).reset_index(drop = True)\n",
    "    return combined_data"
   ],
   "outputs": [],
   "execution_count": null
  },
  {
   "metadata": {},
   "cell_type": "code",
   "source": [
    "### This is for cleaning the data    \n",
    "# Clean the data\n",
    "def clean_data(df):\n",
    "    # Since there may be more than 1 related ids, we handle it by combining the related IDs together as a single list\n",
    "    combined_related_ids = []\n",
    "    # Loop over each row and combine the related IDs\n",
    "    for index, row in df.iterrows():\n",
    "        # We select the related IDs columns (from the 10th column onward)\n",
    "        related_ids = row[9:]  \n",
    "        # Join the cleaned related IDs into a single string separated by commas then add to the list\n",
    "        combined_related_ids.append(','.join(related_ids.astype(str)))\n",
    "    \n",
    "    # Add the combined relatedIDs to the DataFrame\n",
    "    df['relatedIDs'] = combined_related_ids\n",
    "    # Keep only the first 9 columns plus the new combined 'relatedIDs' column\n",
    "    depth_data = df.iloc[:, :9].copy() \n",
    "    depth_data['relatedIDs'] = combined_related_ids \n",
    "    # Add the column names to each column\n",
    "    depth_data.columns = column_names\n",
    "    # Remove leading/trailing whitespace from string columns\n",
    "    depth_data['uploader'] = depth_data['uploader'].str.strip()\n",
    "    depth_data['category'] = depth_data['category'].str.strip()\n",
    "    # Convert these columns to numeric\n",
    "    numeric_columns = ['age', 'length', 'views', 'rate', 'ratings', 'comments']\n",
    "    for col in numeric_columns:\n",
    "        depth_data[col] = pd.to_numeric(depth_data[col])   \n",
    "    # Fill missing 'rate' values with the mean of the column\n",
    "    depth_data['rate'] = depth_data['rate'].fillna(depth_data['rate'].mean())\n",
    "    return depth_data\n"
   ],
   "id": "b16f2c66de2967c8",
   "outputs": [],
   "execution_count": null
  },
  {
   "metadata": {},
   "cell_type": "code",
   "source": [
    "# # Function to connect and insert into MongoDB\n",
    "# def insert_to_mongo(db, collection_name, records):\n",
    "#     # Insert records into MongoDB\n",
    "#     db[collection_name].insert_many(records)\n",
    "# \n",
    "# # Main function\n",
    "# def main():\n",
    "#     # For each crawl, load and process all depth files\n",
    "#     crawl1 = load_crawl('data/080327', '2008-03-27')\n",
    "#     crawl2 = load_crawl('data/080329', '2008-03-29')\n",
    "#     crawl3 = load_crawl('data/080331', '2008-03-31')\n",
    "# \n",
    "#     # Combine all crawls into a single dataframe\n",
    "#     combined_data = pd.concat([crawl1, crawl2, crawl3], axis=0).reset_index(drop=True)\n",
    "# \n",
    "#     # Clean the combined data\n",
    "#     combined_data = clean_data(combined_data)\n",
    "# \n",
    "#     # Transform the combined data\n",
    "#     combined_data = transform_data(combined_data)\n",
    "# \n",
    "#     print(combined_data.head())\n",
    "# main()"
   ],
   "id": "b548994c9f0af3e8",
   "outputs": [],
   "execution_count": null
  },
  {
   "metadata": {},
   "cell_type": "code",
   "source": [
    "testing = (load_depth(\"data/080331/2.txt\", '2008-03-31', \"2\"))\n",
    "clean = clean_data(testing)\n",
    "print(clean)\n"
   ],
   "id": "185e68b1be917648",
   "outputs": [],
   "execution_count": null
  }
 ],
 "metadata": {
  "kernelspec": {
   "display_name": "Python 3",
   "language": "python",
   "name": "python3"
  },
  "language_info": {
   "codemirror_mode": {
    "name": "ipython",
    "version": 2
   },
   "file_extension": ".py",
   "mimetype": "text/x-python",
   "name": "python",
   "nbconvert_exporter": "python",
   "pygments_lexer": "ipython2",
   "version": "2.7.6"
  }
 },
 "nbformat": 4,
 "nbformat_minor": 5
}
