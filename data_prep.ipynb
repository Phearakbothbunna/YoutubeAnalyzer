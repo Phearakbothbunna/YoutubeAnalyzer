{
 "cells": [
  {
   "cell_type": "code",
   "execution_count": null,
   "id": "initial_id",
   "metadata": {
    "ExecuteTime": {
     "end_time": "2024-10-13T23:44:34.366286Z",
     "start_time": "2024-10-13T23:44:34.356872Z"
    }
   },
   "outputs": [],
   "source": [
    "# Import needed libraries\n",
    "import pandas as pd\n",
    "\n",
    "### This is for loading the data\n",
    "\n",
    "# The crawl dataset we are using do not have column names or headings so we need to handle that\n",
    "column_names = ['videoID', 'uploader', 'age', 'category', 'length', 'views', 'rate', 'ratings', 'comments', 'relatedIDs']\n",
    "\n",
    "# Load YouTube data for each depth file(we have 4 depths in total starting from 0)\n",
    "def load_depth(path, crawl_date, depth):\n",
    "    # Initialize a list to store the valid rows\n",
    "    valid_rows = []\n",
    "    # Read our dataset line by line\n",
    "    # We were using pandas to load/read data at first but there were errors when the 1st row only has 1 or 2 column and pandas were assuming that's all the columns we have (inconsistent)\n",
    "    # so we decided to go with this route instead and it works\n",
    "    with open(path, 'r') as file:\n",
    "        for line in file:\n",
    "            # Split the line by tab and check if it has at least 2 columns\n",
    "            # Some rows might have only 1 or 2 columns which is not useful for us, so we ignore them\n",
    "            # this way it helps with fixing the issues with some rows having only 1 column as well\n",
    "            split_line = line.strip().split('\\t')\n",
    "            if len(split_line) >= 2:\n",
    "                valid_rows.append(split_line)       \n",
    "    # Convert the list into pandas dataframe\n",
    "    depth_data = pd.DataFrame(valid_rows)\n",
    "    depth_data['crawl_date'] = crawl_date\n",
    "    depth_data['depth'] = depth\n",
    "    return depth_data\n",
    "\n",
    "# Load all depth files for a single crawl\n",
    "def load_crawl(path, crawl_date):\n",
    "    # Load depth file 0, 1, 2 and 3\n",
    "    depth_files = [f\"{path}/{i}.txt\" for i in range(4)]\n",
    "    depth_dframe = []\n",
    "    # Loop through the total depth files and add the dataframe to depth_dframe list\n",
    "    for i, depth_file in enumerate (depth_files):\n",
    "        depth_dframe.append(load_depth(depth_file, crawl_date, i))\n",
    "    # Now for each crawl, we combine all depths into a single dataframe\n",
    "    combined_data = pd.concat(depth_dframe, axis=0).reset_index(drop = True)\n",
    "    return combined_data"
   ]
  },
  {
   "cell_type": "code",
   "execution_count": null,
   "id": "b16f2c66de2967c8",
   "metadata": {
    "ExecuteTime": {
     "end_time": "2024-10-13T23:44:34.374559Z",
     "start_time": "2024-10-13T23:44:34.370296Z"
    }
   },
   "outputs": [],
   "source": [
    "### This is for cleaning and transformation the data (Data Preparation)\n",
    "def prepare_data(df):\n",
    "    # Since there may be more than 1 related ids, we handle it by combining the related IDs together as a single list\n",
    "    combined_related_ids = []\n",
    "    # Loop over each row and combine the related IDs\n",
    "    for index, row in df.iterrows():\n",
    "        # We select the related IDs columns (from the 10th column onward) \n",
    "        # The dataset description says the related IDs is up to 20 strings only \n",
    "        related_ids = row[9:29]  \n",
    "        # Join the cleaned related IDs into a single string separated by commas then add to the list\n",
    "        combined_related_ids.append(','.join(related_ids.astype(str)))\n",
    "    # Add the combined relatedIDs to the DataFrame\n",
    "    df['relatedIDs'] = combined_related_ids\n",
    "    # Keep only the first 9 columns plus the new combined 'relatedIDs' column\n",
    "    depth_data = df.iloc[:, :9].copy() \n",
    "    depth_data['relatedIDs'] = combined_related_ids \n",
    "    # Keep the crawl_date and depth column \n",
    "    depth_data[['crawl_date', 'depth']] = df[['crawl_date', 'depth']] \n",
    "    # Add the column names to each column\n",
    "    depth_data.columns = column_names + ['crawl_date', 'depth']\n",
    "    # Remove the leading/trailing whitespace from string columns\n",
    "    depth_data['uploader'] = depth_data['uploader'].str.strip()\n",
    "    depth_data['category'] = depth_data['category'].str.strip()\n",
    "    # Convert these columns to numeric\n",
    "    numeric_columns = ['age', 'length', 'views', 'rate', 'ratings', 'comments']\n",
    "    for col in numeric_columns:\n",
    "        depth_data[col] = pd.to_numeric(depth_data[col])   \n",
    "    # Fill in the missing 'rate' values with the mean of the column\n",
    "    depth_data['rate'] = depth_data['rate'].fillna(depth_data['rate'].mean())\n",
    "    return depth_data"
   ]
  },
  {
   "cell_type": "code",
   "execution_count": null,
   "id": "185e68b1be917648",
   "metadata": {
    "ExecuteTime": {
     "end_time": "2024-10-13T23:45:16.955978Z",
     "start_time": "2024-10-13T23:44:35.081767Z"
    }
   },
   "outputs": [],
   "source": [
    "# testing = (load_depth(\"data/080331/2.txt\", '2008-03-31', \"2\"))\n",
    "# clean = clean_data(testing)\n",
    "# print(clean)\n",
    "\n",
    "# Load all the crawls in the given dataset\n",
    "crawl1 = load_crawl('data/080327', '2008-03-27')\n",
    "crawl2 = load_crawl('data/080329', '2008-03-29')\n",
    "crawl3 = load_crawl('data/080331', '2008-03-31')\n",
    "# Combine all crawls into a single dataframe\n",
    "combined_data = pd.concat([crawl1, crawl2, crawl3], axis=0).reset_index(drop=True)\n",
    "# Prepare the data (clean & transform)\n",
    "combined_data = prepare_data(combined_data)\n",
    "print(combined_data.head())"
   ]
  },
  {
   "cell_type": "code",
   "execution_count": null,
   "id": "28e03963de74113b",
   "metadata": {},
   "outputs": [],
   "source": [
    "# Data ingestion and connection with MongoDB\n",
    "from pymongo import MongoClient\n",
    "# Connect to MongoDb database that we have created\n",
    "uri = 'mongodb://localhost:27017/'\n",
    "client = MongoClient(uri)\n",
    "db = client[\"youtubedb\"]\n",
    "collection = db[\"youtube_vids\"]\n",
    "# Convert the DataFrame into a list of dictionaries\n",
    "insert_data = combined_data.to_dict('records')\n",
    "# Insert the data into the collection\n",
    "collection.insert_many(insert_data)"
   ]
  },
  {
   "cell_type": "code",
   "execution_count": null,
   "id": "b1b431fb-5ac4-453b-a3e7-921701e09b87",
   "metadata": {},
   "outputs": [],
   "source": [
    "# Validation Queries\n",
    "\n",
    "# Query 1: Validate Document Count\n",
    "document_count = collection.count_documents({})\n",
    "print(\"Total documents:\", document_count)\n",
    "\n",
    "# Query 2: Check Category Distribution\n",
    "category_counts = collection.aggregate([\n",
    "    { \"$group\": { \"_id\": \"$category\", \"count\": { \"$sum\": 1 } } }\n",
    "])\n",
    "print(\"Category distribution:\")\n",
    "for category in category_counts:\n",
    "    print(category)\n",
    "\n",
    "# Query 3: Check Average and Max Views\n",
    "view_stats = collection.aggregate([\n",
    "    { \"$group\": { \"_id\": None, \"avgViews\": { \"$avg\": \"$views\" }, \"maxViews\": { \"$max\": \"$views\" } } }\n",
    "])\n",
    "print(\"View statistics:\")\n",
    "for stats in view_stats:\n",
    "    print(stats)\n",
    "\n",
    "# Query 4: Validate Related IDs Format\n",
    "related_id_check = collection.find({\"relatedIDs\": {\"$exists\": True, \"$type\": \"string\"}}).limit(5)\n",
    "print(\"Sample related IDs:\")\n",
    "for doc in related_id_check:\n",
    "    print(doc['relatedIDs'])\n"
   ]
  },
  {
   "cell_type": "code",
   "execution_count": null,
   "id": "4535ff3b-a8ed-4402-8d84-a42a18e194f0",
   "metadata": {},
   "outputs": [],
   "source": [
    "import time\n",
    "\n",
    "# Clear the collection to avoid duplicate entries\n",
    "collection.delete_many({})\n",
    "print(\"Collection cleared.\")\n",
    "\n",
    "# Start timer\n",
    "start_time = time.time()\n",
    "\n",
    "# Ingest data (insert many records)\n",
    "collection.insert_many(insert_data)\n",
    "\n",
    "# End timer\n",
    "end_time = time.time()\n",
    "\n",
    "# Calculate and print ingestion time\n",
    "ingestion_time = end_time - start_time\n",
    "print(f\"Data ingestion took {ingestion_time:.2f} seconds\")\n"
   ]
  },
  {
   "cell_type": "code",
   "execution_count": null,
   "id": "b0a863e2-6488-4d10-a662-9a607141701d",
   "metadata": {},
   "outputs": [],
   "source": [
    "import time\n",
    "\n",
    "# Measure execution time for document count\n",
    "start_time = time.time()\n",
    "document_count = collection.count_documents({})\n",
    "end_time = time.time()\n",
    "\n",
    "# Print results\n",
    "print(\"Total documents:\", document_count)\n",
    "print(f\"Document count query took {end_time - start_time:.4f} seconds\")\n"
   ]
  },
  {
   "cell_type": "code",
   "execution_count": null,
   "id": "158889be-f784-46e1-a43f-c11ff8a84031",
   "metadata": {},
   "outputs": [],
   "source": [
    "# Measure execution time for category distribution query\n",
    "start_time = time.time()\n",
    "category_counts = collection.aggregate([\n",
    "    { \"$group\": { \"_id\": \"$category\", \"count\": { \"$sum\": 1 } } }\n",
    "])\n",
    "\n",
    "# Collect results to ensure the query executes fully\n",
    "categories = list(category_counts)\n",
    "end_time = time.time()\n",
    "\n",
    "# Print results and time\n",
    "print(\"Category distribution:\")\n",
    "for category in categories:\n",
    "    print(category)\n",
    "print(f\"Category distribution query took {end_time - start_time:.4f} seconds\")\n"
   ]
  },
  {
   "cell_type": "code",
   "execution_count": null,
   "id": "a7e1f2b4-3f7a-458a-9cc2-e1041f50c426",
   "metadata": {},
   "outputs": [],
   "source": [
    "# Measure execution time for view statistics query\n",
    "start_time = time.time()\n",
    "view_stats = collection.aggregate([\n",
    "    { \"$group\": { \"_id\": None, \"avgViews\": { \"$avg\": \"$views\" }, \"maxViews\": { \"$max\": \"$views\" } } }\n",
    "])\n",
    "\n",
    "# Collect results to ensure the query executes fully\n",
    "view_stats_result = list(view_stats)\n",
    "end_time = time.time()\n",
    "\n",
    "# Print results and time\n",
    "print(\"View statistics:\", view_stats_result)\n",
    "print(f\"View statistics query took {end_time - start_time:.4f} seconds\")\n"
   ]
  },
  {
   "cell_type": "code",
   "execution_count": null,
   "id": "7b586804-b789-4b02-abfb-be84f4444aa6",
   "metadata": {},
   "outputs": [],
   "source": [
    "# Measure execution time for related IDs format check\n",
    "start_time = time.time()\n",
    "related_id_check = collection.find({\"relatedIDs\": {\"$exists\": True, \"$type\": \"string\"}}).limit(5)\n",
    "\n",
    "# Collect results to ensure the query executes fully\n",
    "related_ids = list(related_id_check)\n",
    "end_time = time.time()\n",
    "\n",
    "# Print results and time\n",
    "print(\"Sample related IDs:\")\n",
    "for doc in related_ids:\n",
    "    print(doc['relatedIDs'])\n",
    "print(f\"Related IDs check query took {end_time - start_time:.4f} seconds\")\n"
   ]
  }
 ],
 "metadata": {
  "kernelspec": {
   "display_name": "Python 3 (ipykernel)",
   "language": "python",
   "name": "python3"
  },
  "language_info": {
   "codemirror_mode": {
    "name": "ipython",
    "version": 3
   },
   "file_extension": ".py",
   "mimetype": "text/x-python",
   "name": "python",
   "nbconvert_exporter": "python",
   "pygments_lexer": "ipython3",
   "version": "3.12.6"
  }
 },
 "nbformat": 4,
 "nbformat_minor": 5
}
